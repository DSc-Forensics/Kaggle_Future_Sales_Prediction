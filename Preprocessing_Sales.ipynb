{
 "cells": [
  {
   "cell_type": "code",
   "execution_count": 1,
   "id": "e2834119",
   "metadata": {},
   "outputs": [],
   "source": [
    "import pandas as pd\n",
    "import numpy as np\n",
    "import os\n",
    "\n",
    "import matplotlib.pyplot as plt\n",
    "import seaborn as sns"
   ]
  },
  {
   "cell_type": "code",
   "execution_count": 2,
   "id": "7b2e16ba",
   "metadata": {},
   "outputs": [
    {
     "data": {
      "text/html": [
       "<div>\n",
       "<style scoped>\n",
       "    .dataframe tbody tr th:only-of-type {\n",
       "        vertical-align: middle;\n",
       "    }\n",
       "\n",
       "    .dataframe tbody tr th {\n",
       "        vertical-align: top;\n",
       "    }\n",
       "\n",
       "    .dataframe thead th {\n",
       "        text-align: right;\n",
       "    }\n",
       "</style>\n",
       "<table border=\"1\" class=\"dataframe\">\n",
       "  <thead>\n",
       "    <tr style=\"text-align: right;\">\n",
       "      <th></th>\n",
       "      <th>date</th>\n",
       "      <th>date_block_num</th>\n",
       "      <th>shop_id</th>\n",
       "      <th>item_id</th>\n",
       "      <th>item_price</th>\n",
       "      <th>item_cnt_day</th>\n",
       "    </tr>\n",
       "  </thead>\n",
       "  <tbody>\n",
       "    <tr>\n",
       "      <th>0</th>\n",
       "      <td>02.01.2013</td>\n",
       "      <td>0</td>\n",
       "      <td>59</td>\n",
       "      <td>22154</td>\n",
       "      <td>999.00</td>\n",
       "      <td>1.0</td>\n",
       "    </tr>\n",
       "    <tr>\n",
       "      <th>1</th>\n",
       "      <td>03.01.2013</td>\n",
       "      <td>0</td>\n",
       "      <td>25</td>\n",
       "      <td>2552</td>\n",
       "      <td>899.00</td>\n",
       "      <td>1.0</td>\n",
       "    </tr>\n",
       "    <tr>\n",
       "      <th>2</th>\n",
       "      <td>05.01.2013</td>\n",
       "      <td>0</td>\n",
       "      <td>25</td>\n",
       "      <td>2552</td>\n",
       "      <td>899.00</td>\n",
       "      <td>-1.0</td>\n",
       "    </tr>\n",
       "    <tr>\n",
       "      <th>3</th>\n",
       "      <td>06.01.2013</td>\n",
       "      <td>0</td>\n",
       "      <td>25</td>\n",
       "      <td>2554</td>\n",
       "      <td>1709.05</td>\n",
       "      <td>1.0</td>\n",
       "    </tr>\n",
       "    <tr>\n",
       "      <th>4</th>\n",
       "      <td>15.01.2013</td>\n",
       "      <td>0</td>\n",
       "      <td>25</td>\n",
       "      <td>2555</td>\n",
       "      <td>1099.00</td>\n",
       "      <td>1.0</td>\n",
       "    </tr>\n",
       "  </tbody>\n",
       "</table>\n",
       "</div>"
      ],
      "text/plain": [
       "         date  date_block_num  shop_id  item_id  item_price  item_cnt_day\n",
       "0  02.01.2013               0       59    22154      999.00           1.0\n",
       "1  03.01.2013               0       25     2552      899.00           1.0\n",
       "2  05.01.2013               0       25     2552      899.00          -1.0\n",
       "3  06.01.2013               0       25     2554     1709.05           1.0\n",
       "4  15.01.2013               0       25     2555     1099.00           1.0"
      ]
     },
     "execution_count": 2,
     "metadata": {},
     "output_type": "execute_result"
    }
   ],
   "source": [
    "os.chdir(\"C:/Users/PC/Desktop/Programming/Kaggle/1C_Sales\")\n",
    "sales=pd.read_csv(\"Inputs/sales_train.csv\")\n",
    "index_cols = ['shop_id', 'item_id', 'date_block_num']\n",
    "\n",
    "sales.head()"
   ]
  },
  {
   "cell_type": "code",
   "execution_count": 3,
   "id": "11a68976",
   "metadata": {},
   "outputs": [
    {
     "data": {
      "text/plain": [
       "Index(['date', 'date_block_num', 'shop_id', 'item_id', 'item_price',\n",
       "       'item_cnt_day'],\n",
       "      dtype='object')"
      ]
     },
     "execution_count": 3,
     "metadata": {},
     "output_type": "execute_result"
    }
   ],
   "source": [
    "sales.columns"
   ]
  },
  {
   "cell_type": "code",
   "execution_count": 5,
   "id": "c4dbf669",
   "metadata": {},
   "outputs": [
    {
     "data": {
      "text/plain": [
       "count    2.935849e+06\n",
       "mean     1.242641e+00\n",
       "std      2.618834e+00\n",
       "min     -2.200000e+01\n",
       "25%      1.000000e+00\n",
       "50%      1.000000e+00\n",
       "75%      1.000000e+00\n",
       "max      2.169000e+03\n",
       "Name: item_cnt_day, dtype: float64"
      ]
     },
     "execution_count": 5,
     "metadata": {},
     "output_type": "execute_result"
    }
   ],
   "source": [
    "sales['item_cnt_day'].describe()"
   ]
  },
  {
   "cell_type": "code",
   "execution_count": 6,
   "id": "1b3b61be",
   "metadata": {},
   "outputs": [
    {
     "data": {
      "text/plain": [
       "<matplotlib.axes._subplots.AxesSubplot at 0x2466164d3d0>"
      ]
     },
     "execution_count": 6,
     "metadata": {},
     "output_type": "execute_result"
    },
    {
     "data": {
      "image/png": "[encoded data removed]",
      "text/plain": [
       "<Figure size 432x288 with 1 Axes>"
      ]
     },
     "metadata": {
      "needs_background": "light"
     },
     "output_type": "display_data"
    }
   ],
   "source": [
    "#histogram\n",
    "sns.distplot(sales['item_cnt_day'])"
   ]
  },
  {
   "cell_type": "code",
   "execution_count": 35,
   "id": "4ceff18c",
   "metadata": {},
   "outputs": [
    {
     "data": {
      "text/plain": [
       "(-24.192, 708.333]     2935847\n",
       "(708.333, 1438.667]          1\n",
       "(1438.667, 2169.0]           1\n",
       "Name: item_cnt_day, dtype: int64"
      ]
     },
     "execution_count": 35,
     "metadata": {},
     "output_type": "execute_result"
    }
   ],
   "source": [
    "sales['item_cnt_day'].value_counts(bins=3)"
   ]
  },
  {
   "cell_type": "markdown",
   "id": "26c116e2",
   "metadata": {},
   "source": [
    "Most values concentrated until ~400. 2 of the values are really extreme. Let's get rid of 'em."
   ]
  },
  {
   "cell_type": "code",
   "execution_count": 4,
   "id": "7a5ea4b1",
   "metadata": {},
   "outputs": [],
   "source": [
    "sales = sales[sales['item_cnt_day'] <= 700]"
   ]
  },
  {
   "cell_type": "code",
   "execution_count": 37,
   "id": "b478ad54",
   "metadata": {},
   "outputs": [
    {
     "data": {
      "text/plain": [
       "(-22.692, 323.5]    2935828\n",
       "(323.5, 669.0]           19\n",
       "Name: item_cnt_day, dtype: int64"
      ]
     },
     "execution_count": 37,
     "metadata": {},
     "output_type": "execute_result"
    }
   ],
   "source": [
    "sales['item_cnt_day'].value_counts(bins=2)"
   ]
  },
  {
   "cell_type": "code",
   "execution_count": 38,
   "id": "edce8fdc",
   "metadata": {},
   "outputs": [
    {
     "data": {
      "text/plain": [
       "<matplotlib.axes._subplots.AxesSubplot at 0x27301a343d0>"
      ]
     },
     "execution_count": 38,
     "metadata": {},
     "output_type": "execute_result"
    },
    {
     "data": {
      "image/png": "[encoded data removed]",
      "text/plain": [
       "<Figure size 432x288 with 1 Axes>"
      ]
     },
     "metadata": {
      "needs_background": "light"
     },
     "output_type": "display_data"
    }
   ],
   "source": [
    "sns.distplot(sales['item_cnt_day'])"
   ]
  },
  {
   "cell_type": "code",
   "execution_count": 39,
   "id": "f2630206",
   "metadata": {},
   "outputs": [
    {
     "name": "stdout",
     "output_type": "stream",
     "text": [
      "Skewness: 100.053652\n",
      "Kurtosis: 20154.135729\n"
     ]
    }
   ],
   "source": [
    "print(\"Skewness: %f\" % sales['item_cnt_day'].skew())\n",
    "print(\"Kurtosis: %f\" % sales['item_cnt_day'].kurt())"
   ]
  },
  {
   "cell_type": "code",
   "execution_count": 42,
   "id": "e44651b4",
   "metadata": {},
   "outputs": [
    {
     "data": {
      "text/plain": [
       "<matplotlib.axes._subplots.AxesSubplot at 0x273002c8490>"
      ]
     },
     "execution_count": 42,
     "metadata": {},
     "output_type": "execute_result"
    },
    {
     "data": {
      "image/png": "[encoded data removed]",
      "text/plain": [
       "<Figure size 432x288 with 1 Axes>"
      ]
     },
     "metadata": {
      "needs_background": "light"
     },
     "output_type": "display_data"
    }
   ],
   "source": [
    "sns.distplot(sales['item_price'])"
   ]
  },
  {
   "cell_type": "code",
   "execution_count": 53,
   "id": "0fd69642",
   "metadata": {},
   "outputs": [
    {
     "data": {
      "text/plain": [
       "(-308.98199999999997, 30797.1]    2935630\n",
       "(30797.1, 61595.2]                    216\n",
       "(277181.9, 307980.0]                    1\n",
       "(61595.2, 92393.3]                      0\n",
       "(92393.3, 123191.4]                     0\n",
       "(123191.4, 153989.5]                    0\n",
       "(153989.5, 184787.6]                    0\n",
       "(184787.6, 215585.7]                    0\n",
       "(215585.7, 246383.8]                    0\n",
       "(246383.8, 277181.9]                    0\n",
       "Name: item_price, dtype: int64"
      ]
     },
     "execution_count": 53,
     "metadata": {},
     "output_type": "execute_result"
    }
   ],
   "source": [
    "sales['item_price'].value_counts(bins=10)"
   ]
  },
  {
   "cell_type": "code",
   "execution_count": 5,
   "id": "99907232",
   "metadata": {},
   "outputs": [],
   "source": [
    "sales = sales[(sales['item_price'] > 0) & (sales['item_price'] < 51000)]"
   ]
  },
  {
   "cell_type": "code",
   "execution_count": 55,
   "id": "77ad8737",
   "metadata": {},
   "outputs": [
    {
     "data": {
      "text/plain": [
       "<matplotlib.axes._subplots.AxesSubplot at 0x273003abe80>"
      ]
     },
     "execution_count": 55,
     "metadata": {},
     "output_type": "execute_result"
    },
    {
     "data": {
      "image/png": "[encoded data removed]",
      "text/plain": [
       "<Figure size 432x288 with 1 Axes>"
      ]
     },
     "metadata": {
      "needs_background": "light"
     },
     "output_type": "display_data"
    }
   ],
   "source": [
    "sns.distplot(sales['item_price'])"
   ]
  },
  {
   "cell_type": "code",
   "execution_count": 56,
   "id": "74c00d48",
   "metadata": {},
   "outputs": [
    {
     "name": "stdout",
     "output_type": "stream",
     "text": [
      "Skewness: 8.981222\n",
      "Kurtosis: 109.247253\n"
     ]
    }
   ],
   "source": [
    "print(\"Skewness: %f\" % sales['item_price'].skew())\n",
    "print(\"Kurtosis: %f\" % sales['item_price'].kurt())"
   ]
  },
  {
   "cell_type": "code",
   "execution_count": 9,
   "id": "c603fabb",
   "metadata": {},
   "outputs": [
    {
     "data": {
      "text/plain": [
       "(-0.5, 33.5, 0.0, 700.0)"
      ]
     },
     "execution_count": 9,
     "metadata": {},
     "output_type": "execute_result"
    },
    {
     "data": {
      "image/png": "[encoded data removed]",
      "text/plain": [
       "<Figure size 576x432 with 1 Axes>"
      ]
     },
     "metadata": {
      "needs_background": "light"
     },
     "output_type": "display_data"
    }
   ],
   "source": [
    "var = 'date_block_num'\n",
    "data = pd.concat([sales['item_cnt_day'], sales[var]], axis=1)\n",
    "f, ax = plt.subplots(figsize=(8, 6))\n",
    "fig = sns.boxplot(x=var, y='item_cnt_day', data=data)\n",
    "fig.axis(ymin=0, ymax=700)"
   ]
  },
  {
   "cell_type": "markdown",
   "id": "0298f81c",
   "metadata": {},
   "source": [
    "See clear increasing trend with time. "
   ]
  },
  {
   "cell_type": "code",
   "execution_count": null,
   "id": "ab024934",
   "metadata": {},
   "outputs": [],
   "source": [
    "shopwise_sales"
   ]
  },
  {
   "cell_type": "code",
   "execution_count": 17,
   "id": "4be5af4b",
   "metadata": {},
   "outputs": [
    {
     "data": {
      "text/plain": [
       "count    3.106983e+06\n",
       "mean     1.148098e+00\n",
       "std      2.007730e+00\n",
       "min     -1.600000e+01\n",
       "25%      1.000000e+00\n",
       "50%      1.000000e+00\n",
       "75%      1.000000e+00\n",
       "max      1.000000e+03\n",
       "Name: item_cnt_day, dtype: float64"
      ]
     },
     "execution_count": 17,
     "metadata": {},
     "output_type": "execute_result"
    }
   ],
   "source": [
    "sales=pd.read_hdf(\"Inputs/Translated_sales_preprocessed.hdf\")\n",
    "sales['item_cnt_day'].describe()"
   ]
  },
  {
   "cell_type": "code",
   "execution_count": null,
   "id": "5bf3925b",
   "metadata": {},
   "outputs": [],
   "source": []
  }
 ],
 "metadata": {
  "kernelspec": {
   "display_name": "Python 3",
   "language": "python",
   "name": "python3"
  },
  "language_info": {
   "codemirror_mode": {
    "name": "ipython",
    "version": 3
   },
   "file_extension": ".py",
   "mimetype": "text/x-python",
   "name": "python",
   "nbconvert_exporter": "python",
   "pygments_lexer": "ipython3",
   "version": "3.8.3"
  }
 },
 "nbformat": 4,
 "nbformat_minor": 5
}
